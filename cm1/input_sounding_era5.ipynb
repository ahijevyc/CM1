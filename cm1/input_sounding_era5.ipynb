{
 "cells": [
  {
   "cell_type": "code",
   "execution_count": null,
   "id": "c952a056-9be3-4e6a-8d67-c544ccc3a623",
   "metadata": {},
   "outputs": [],
   "source": [
    "import logging\n",
    "\n",
    "import cm1.input.sounding\n",
    "import matplotlib.pyplot as plt\n",
    "import pandas as pd\n",
    "from cm1.skewt import skewt\n",
    "from cm1.utils import TMPDIR\n",
    "from metpy.units import units\n",
    "\n",
    "# Configure logging\n",
    "logging.basicConfig(\n",
    "    level=logging.WARNING, format=\"%(asctime)s - %(levelname)s: %(message)s\", force=True\n",
    ")"
   ]
  },
  {
   "cell_type": "markdown",
   "id": "33dcbed2",
   "metadata": {},
   "source": [
    "### Predefined CM1 input soundings"
   ]
  },
  {
   "cell_type": "code",
   "execution_count": null,
   "id": "08d919a8",
   "metadata": {},
   "outputs": [],
   "source": [
    "dss = [\n",
    "    cm1.input.sounding.trier(),\n",
    "    cm1.input.sounding.jordan_allmean(),\n",
    "    cm1.input.sounding.jordan_hurricane(),\n",
    "    cm1.input.sounding.rotunno_emanuel(),\n",
    "    cm1.input.sounding.dunion_MT(),\n",
    "    cm1.input.sounding.bryan_morrison(),\n",
    "    cm1.input.sounding.seabreeze_test(),\n",
    "]\n",
    "fig, axes = plt.subplots(\n",
    "    ncols=2,\n",
    "    sharex=True,\n",
    "    sharey=True,\n",
    "    figsize=(10, 16),\n",
    "    gridspec_kw={\"hspace\": 0.4},\n",
    ")\n",
    "# Hide the axes for all subplots\n",
    "for ax in axes.flat:\n",
    "    ax.axis(\"off\")\n",
    "\n",
    "for i, ds in enumerate(dss):\n",
    "    # Use subplot because skewt() uses metpy.plots.SkewT, which uses it.\n",
    "    logging.info(ds.attrs[\"case\"])\n",
    "    skew = skewt(ds, fig=fig, subplot=(4, 2, i + 1))\n",
    "    skew.ax.set_title(\n",
    "        ds.attrs[\"case\"] + skew.ax.get_title(), fontsize=\"x-small\"\n",
    "    )  # Set title to sounding case\n",
    "\n",
    "plt.tight_layout()"
   ]
  },
  {
   "cell_type": "code",
   "execution_count": null,
   "id": "dc258811-bb3e-45b8-ae02-f044330fdd01",
   "metadata": {},
   "outputs": [],
   "source": [
    "valid_time = pd.to_datetime(\"20240525\")\n",
    "lon = -95 * units.degree_E\n",
    "lat = 33 * units.degree_N\n",
    "ds_aws = cm1.input.sounding.era5_aws(valid_time, lat, lon)\n",
    "ds_aws"
   ]
  },
  {
   "cell_type": "markdown",
   "id": "09fc8905",
   "metadata": {},
   "source": [
    "### Given a latitude and longitude, select a 3x3 grid (nearest ERA5 grid point + 8 neighbors)"
   ]
  },
  {
   "cell_type": "code",
   "execution_count": null,
   "id": "0082dcb4-3626-4484-8c20-b58c79ee7c3b",
   "metadata": {},
   "outputs": [],
   "source": [
    "# ds0 = cm1.input.era5.model_level(valid_time).load()\n",
    "ds0 = cm1.input.era5.aws(valid_time)\n",
    "\n",
    "# Use scalar values for lat/lon to select the central grid point\n",
    "sel = cm1.input.era5.nearest_grid_block_sel(ds0, lat=lat, lon=lon)\n",
    "ds0 = ds0.sel(sel)\n",
    "\n",
    "fig, axes = plt.subplots(ncols=3, nrows=3, sharex=True, sharey=True, figsize=(15, 14))\n",
    "# Hide the axes for all subplots\n",
    "for i, ax in enumerate(axes.flat):\n",
    "    ax.axis(\"off\")\n",
    "    ds = ds0.stack(i=(\"latitude\", \"longitude\")).isel(i=i)\n",
    "    skew = skewt(ds, fig=fig, subplot=(3, 3, i + 1))\n",
    "    skew.ax.set_title(f\"{skew.ax.get_title()}\", fontsize=\"x-small\")\n",
    "    ofile = TMPDIR / f\"{skew.ax.get_title().split('\\n')[0].replace(' ','_')}.txt\"\n",
    "    with open(ofile, \"w\") as fh:\n",
    "        fh.write(cm1.input.sounding.to_txt(ds))\n",
    "        logging.warning(ofile)"
   ]
  },
  {
   "cell_type": "code",
   "execution_count": null,
   "id": "98a9cc8c-dba3-4e97-8009-b7b3386f5b53",
   "metadata": {},
   "outputs": [],
   "source": [
    "import metpy.calc as mpcalc\n",
    "\n",
    "ds = ds0\n",
    "# Attach MetPy parsing (to interpret units and coordinates)\n",
    "ds = ds.metpy.parse_cf()\n",
    "\n",
    "# Get wind components (assumes they are in m/s and with coordinates parsed)\n",
    "u = ds[\"U\"].metpy.sel(level=850 * units.hPa)  # or any other level\n",
    "v = ds[\"V\"].metpy.sel(level=850 * units.hPa)\n",
    "\n",
    "# Grid spacing (assumes 1D lat/lon)\n",
    "dx, dy = mpcalc.lat_lon_grid_deltas(ds[\"longitude\"], ds[\"latitude\"])\n",
    "\n",
    "# Compute divergence (returns units of 1/s)\n",
    "div = mpcalc.divergence(u, v, dx=dx, dy=dy)\n",
    "# `div` is a 2D array (latitude x longitude) at the selected level\n",
    "ds[\"divergence\"] = ((\"latitude\", \"longitude\"), div.data)\n",
    "ds[\"divergence\"].plot()"
   ]
  },
  {
   "cell_type": "code",
   "execution_count": null,
   "id": "c528e893-aecb-4102-9374-0058d83d5eb3",
   "metadata": {},
   "outputs": [],
   "source": [
    "cm1.input.era5.pressure_level(valid_time).load()"
   ]
  },
  {
   "cell_type": "code",
   "execution_count": null,
   "id": "6a78930a",
   "metadata": {},
   "outputs": [],
   "source": [
    "ds0.LSM.plot()"
   ]
  },
  {
   "cell_type": "code",
   "execution_count": null,
   "id": "c50c8f75",
   "metadata": {},
   "outputs": [],
   "source": [
    "from io import StringIO\n",
    "\n",
    "s = cm1.input.sounding.to_txt(cm1.input.sounding.trier())\n",
    "print(s)\n",
    "pd.read_csv(StringIO(s), skiprows=1, sep=\" \", names=[\"Z\", \"theta\", \"Q\", \"U\", \"V\"])"
   ]
  },
  {
   "cell_type": "markdown",
   "id": "d86f5b82",
   "metadata": {},
   "source": [
    "## Show difference between pressure-level and model level soundings\n",
    "* fewer pressure levels than model levels\n",
    "* winds at surface (10u and 10v) not in pressure-level sounding"
   ]
  },
  {
   "cell_type": "code",
   "execution_count": null,
   "id": "f18ac864",
   "metadata": {},
   "outputs": [],
   "source": [
    "fig, axes = plt.subplots(ncols=2, sharey=True, figsize=(14, 7))\n",
    "# Hide the axes for all subplots\n",
    "for ax in axes.flat:\n",
    "    ax.axis(\"off\")\n",
    "skew = skewt(ds_aws, fig=fig, subplot=(1, 2, 1))\n",
    "skew.ax.set_title(f\"ERA5 AWS pressure level  {skew.ax.get_title()}\", fontsize=\"x-small\")\n",
    "skew = skewt(ds0.isel(latitude=1, longitude=1), fig=fig, subplot=(1, 2, 2))\n",
    "skew.ax.set_title(f\"model level  {skew.ax.get_title()}\", fontsize=\"x-small\")"
   ]
  },
  {
   "cell_type": "code",
   "execution_count": null,
   "id": "6fe56e2a",
   "metadata": {},
   "outputs": [],
   "source": [
    "cm1.input.sounding.to_txt(ds_aws)"
   ]
  },
  {
   "cell_type": "code",
   "execution_count": null,
   "id": "c204929b-4a08-4ec0-a3aa-424d8ca2d088",
   "metadata": {},
   "outputs": [],
   "source": [
    "ds = cm1.input.sounding.era5_pressure_level(valid_time, lat, lon)\n",
    "ds"
   ]
  },
  {
   "cell_type": "code",
   "execution_count": null,
   "id": "49343c3b",
   "metadata": {},
   "outputs": [],
   "source": [
    "skewt(ds)"
   ]
  }
 ],
 "metadata": {
  "kernelspec": {
   "display_name": "test_metpy",
   "language": "python",
   "name": "python3"
  },
  "language_info": {
   "codemirror_mode": {
    "name": "ipython",
    "version": 3
   },
   "file_extension": ".py",
   "mimetype": "text/x-python",
   "name": "python",
   "nbconvert_exporter": "python",
   "pygments_lexer": "ipython3",
   "version": "3.13.5"
  }
 },
 "nbformat": 4,
 "nbformat_minor": 5
}
