{
 "cells": [
  {
   "cell_type": "code",
   "execution_count": null,
   "metadata": {},
   "outputs": [],
   "source": [
    "import logging\n",
    "import os\n",
    "from pathlib import Path\n",
    "\n",
    "import cm1.input.sounding\n",
    "import pandas as pd\n",
    "import xarray\n",
    "from cm1.run import PBS, CM1Run\n",
    "from cm1.utils import animate_cm1out_nc, skewt\n",
    "from metpy.units import units"
   ]
  },
  {
   "cell_type": "code",
   "execution_count": null,
   "metadata": {},
   "outputs": [],
   "source": [
    "# Path to the CM1 repository\n",
    "cm1_path = Path(os.getenv(\"SCRATCH\")) / \"CM1\""
   ]
  },
  {
   "cell_type": "code",
   "execution_count": null,
   "metadata": {},
   "outputs": [],
   "source": [
    "testcase = \"supercell\"\n",
    "run_dir = cm1_path / f\"run_{testcase}\"\n",
    "\n",
    "pbs_config = PBS(\n",
    "    name=testcase,\n",
    "    account=os.getenv(\"PBS_ACCOUNT\"),\n",
    "    walltime=\"01:00:00\",\n",
    "    nodes=1,\n",
    "    run_dir=run_dir,\n",
    "    executable_path=cm1_path / \"run/cm1.exe\",\n",
    ")\n",
    "\n",
    "# If the testcase is 1 or 2-D use cm1 compiled for single processor\n",
    "run_serial = testcase.startswith(\"scm_\") or testcase == \"nh_mountain_waves\"\n",
    "if run_serial:\n",
    "    pbs_config.executable_path = cm1_path / \"run/cm1.single.gnu.exe\""
   ]
  },
  {
   "cell_type": "code",
   "execution_count": null,
   "metadata": {},
   "outputs": [],
   "source": [
    "cm1_run = CM1Run(cm1_path=cm1_path, pbs_config=pbs_config)\n",
    "# Modify values in namelist\n",
    "namelist = cm1_run.namelist\n",
    "# Combine output in one netCDF file.\n",
    "namelist[\"param9\"][\"output_format\"] = 2\n",
    "namelist[\"param9\"][\"output_filetype\"] = 1\n",
    "\n",
    "if testcase in [\"supercell\"]:\n",
    "    valid_time = pd.to_datetime(\"20240525\")\n",
    "    lon = -95 * units.degree_E\n",
    "    lat = 33 * units.degree_N\n",
    "    # Run with temperature, wind from \"input_sounding\".\n",
    "    namelist[\"param2\"][\"isnd\"] = 7\n",
    "    ofile = run_dir / \"input_sounding\"\n",
    "    if os.path.exists(ofile):\n",
    "        logging.warning(f\"{ofile} already exists\")\n",
    "    else:\n",
    "        if os.path.exists(\"/glade/campaign\"):\n",
    "            input_sounding_ds = cm1.input.sounding.era5_model_level(valid_time, lon=lon, lat=lat)\n",
    "        else:\n",
    "            input_sounding_ds = cm1.input.sounding.era5_aws(valid_time, lon=lon, lat=lat)\n",
    "        with open(ofile, \"w\") as f:\n",
    "            f.write(cm1.input.sounding.to_txt(input_sounding_ds))\n",
    "            logging.warning(ofile)\n",
    "\n",
    "if run_serial:\n",
    "    cm1_run.run_serial(background=False)\n",
    "else:\n",
    "    cm1_run.submit_job()\n",
    "print(cm1_run.readme)"
   ]
  },
  {
   "cell_type": "code",
   "execution_count": null,
   "metadata": {},
   "outputs": [],
   "source": [
    "ifile = run_dir / \"input_sounding\"\n",
    "if os.path.exists(ifile):\n",
    "    # sounding from text has no `time` so assign it. It will show in title.\n",
    "    skewt(cm1.input.sounding.read_from_txt(ifile).assign(time=valid_time))"
   ]
  },
  {
   "cell_type": "code",
   "execution_count": null,
   "metadata": {},
   "outputs": [],
   "source": [
    "# Open NetCDF file\n",
    "output_ds = xarray.open_dataset(run_dir / \"cm1out.nc\")\n",
    "\n",
    "animate_cm1out_nc(output_ds, \"dbz\", height=0.1, dim=\"zh\", vmin=-16, vmax=60, cmap=\"gist_ncar\")"
   ]
  },
  {
   "cell_type": "code",
   "execution_count": null,
   "metadata": {},
   "outputs": [],
   "source": [
    "help(CM1Run)"
   ]
  },
  {
   "cell_type": "code",
   "execution_count": null,
   "metadata": {},
   "outputs": [],
   "source": []
  }
 ],
 "metadata": {
  "kernelspec": {
   "display_name": "Python [conda env:cm1]",
   "language": "python",
   "name": "conda-env-cm1-py"
  },
  "language_info": {
   "codemirror_mode": {
    "name": "ipython",
    "version": 3
   },
   "file_extension": ".py",
   "mimetype": "text/x-python",
   "name": "python",
   "nbconvert_exporter": "python",
   "pygments_lexer": "ipython3",
   "version": "3.12.7"
  }
 },
 "nbformat": 4,
 "nbformat_minor": 4
}
