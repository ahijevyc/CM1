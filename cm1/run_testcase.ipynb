{
 "cells": [
  {
   "cell_type": "code",
   "execution_count": null,
   "metadata": {},
   "outputs": [],
   "source": [
    "import logging\n",
    "import os\n",
    "from pathlib import Path\n",
    "\n",
    "import cm1.input.sounding\n",
    "import pandas as pd\n",
    "import xarray as xr\n",
    "from cm1.run import PBS, CM1Run\n",
    "from cm1.utils import animate_cm1out_nc, skewt\n",
    "from metpy.units import units"
   ]
  },
  {
   "cell_type": "code",
   "execution_count": null,
   "metadata": {},
   "outputs": [],
   "source": [
    "# Path to the CM1 repository\n",
    "scratch_dir = os.getenv(\"SCRATCH\", \"/Users/ahijevyc/sysdisk1\")\n",
    "if scratch_dir is None:\n",
    "\traise EnvironmentError(\"The SCRATCH environment variable is not set.\")\n",
    "cm1_path = Path(scratch_dir) / \"CM1\""
   ]
  },
  {
   "cell_type": "code",
   "execution_count": null,
   "metadata": {},
   "outputs": [],
   "source": [
    "testcase = \"supercell\"\n",
    "run_dir = cm1_path / f\"run_{testcase}\"\n",
    "\n",
    "pbs_account = os.getenv(\"PBS_ACCOUNT\", \"NMMM0001\")\n",
    "if pbs_account is None:\n",
    "    raise EnvironmentError(\"The PBS_ACCOUNT environment variable is not set.\")\n",
    "\n",
    "pbs_config = PBS(\n",
    "    name=testcase,\n",
    "    account=pbs_account,\n",
    "    walltime=\"01:00:00\",\n",
    "    nodes=1,\n",
    "    run_dir=run_dir,\n",
    "    executable_path=cm1_path / \"run/cm1.exe\",\n",
    ")\n",
    "\n",
    "# If the testcase is 1 or 2-D use cm1 compiled for single processor\n",
    "oneortwod = testcase.startswith(\"scm_\") or testcase == \"nh_mountain_waves\"\n",
    "if oneortwod:\n",
    "    pbs_config.executable_path = cm1_path / \"run/cm1.single.gnu.exe\""
   ]
  },
  {
   "cell_type": "code",
   "execution_count": null,
   "metadata": {},
   "outputs": [],
   "source": [
    "cm1_run = CM1Run(cm1_path=cm1_path, pbs_config=pbs_config)\n",
    "# Modify values in namelist\n",
    "namelist = cm1_run.namelist\n",
    "# Combine output in one netCDF file.\n",
    "namelist[\"param9\"][\"output_format\"] = 2\n",
    "namelist[\"param9\"][\"output_filetype\"] = 1\n",
    "\n",
    "input_sounding_ds = None\n",
    "if testcase in [\"supercell\"]:\n",
    "    valid_time = pd.to_datetime(\"20240525\")\n",
    "    lon = -95 * units.degree_E\n",
    "    lat = 33 * units.degree_N\n",
    "    if os.path.exists(\"/glade/campaign\"):\n",
    "        input_sounding_ds = cm1.input.sounding.era5_model_level(\n",
    "            valid_time, lon=lon, lat=lat\n",
    "        )\n",
    "    else:\n",
    "        input_sounding_ds = cm1.input.sounding.era5_aws(valid_time, lon=lon, lat=lat)\n",
    "\n",
    "    ofile = run_dir / \"input_sounding\"\n",
    "    if os.path.exists(ofile):\n",
    "        old_sounding = open(ofile, \"r\").read()\n",
    "        assert (\n",
    "            old_sounding == input_sounding_ds.to_txt()\n",
    "        ), f\"{ofile} already exists and differs\"\n",
    "    else:\n",
    "        with open(ofile, \"w\") as f:\n",
    "            f.write(input_sounding_ds.to_txt())\n",
    "            logging.warning(f\"wrote {ofile}\")\n",
    "    cm1_run.sounding = input_sounding_ds\n",
    "\n",
    "runlocal = True  # set True to run locally as on cmd line\n",
    "if oneortwod or runlocal:\n",
    "    cm1_run.run_serial(background=False)\n",
    "else:\n",
    "    cm1_run.submit_job()\n",
    "print(cm1_run.readme)"
   ]
  },
  {
   "cell_type": "code",
   "execution_count": null,
   "metadata": {},
   "outputs": [],
   "source": [
    "cm1_run.sounding.plot()"
   ]
  },
  {
   "cell_type": "code",
   "execution_count": null,
   "metadata": {},
   "outputs": [],
   "source": [
    "cm1.input.era5.aws(valid_time)"
   ]
  },
  {
   "cell_type": "code",
   "execution_count": null,
   "metadata": {},
   "outputs": [],
   "source": [
    "# Open NetCDF file\n",
    "output_ds = xr.open_dataset(run_dir / \"cm1out.nc\", decode_timedelta=True)\n",
    "\n",
    "animate_cm1out_nc(output_ds, \"dbz\", height=0.1, dim=\"zh\", vmin=-16, vmax=60, cmap=\"gist_ncar\")"
   ]
  },
  {
   "cell_type": "code",
   "execution_count": null,
   "metadata": {},
   "outputs": [],
   "source": [
    "help(CM1Run)"
   ]
  },
  {
   "cell_type": "code",
   "execution_count": null,
   "metadata": {},
   "outputs": [],
   "source": []
  }
 ],
 "metadata": {
  "kernelspec": {
   "display_name": "cm1",
   "language": "python",
   "name": "python3"
  },
  "language_info": {
   "codemirror_mode": {
    "name": "ipython",
    "version": 3
   },
   "file_extension": ".py",
   "mimetype": "text/x-python",
   "name": "python",
   "nbconvert_exporter": "python",
   "pygments_lexer": "ipython3",
   "version": "3.13.1"
  }
 },
 "nbformat": 4,
 "nbformat_minor": 4
}
